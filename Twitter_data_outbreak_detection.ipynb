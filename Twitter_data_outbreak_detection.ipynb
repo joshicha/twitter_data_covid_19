{
  "nbformat": 4,
  "nbformat_minor": 0,
  "metadata": {
    "colab": {
      "name": "Twitter_data_outbreak_detection.ipynb",
      "provenance": [],
      "collapsed_sections": []
    },
    "kernelspec": {
      "name": "python3",
      "display_name": "Python 3"
    },
    "accelerator": "GPU"
  },
  "cells": [
    {
      "cell_type": "code",
      "metadata": {
        "id": "wfXUZAhS0NoQ",
        "colab_type": "code",
        "colab": {}
      },
      "source": [
        "\n",
        "\n",
        "Dr Chaitanya Joshi\n",
        "Data Science Campus\n"
      ],
      "execution_count": 0,
      "outputs": []
    },
    {
      "cell_type": "markdown",
      "metadata": {
        "id": "fl7XUykQfFvH",
        "colab_type": "text"
      },
      "source": [
        "A very rough testing the principles outlined in \n",
        "\n",
        "The Assessment of twitter’s potential for outbreak Detection: Avian Influenza Case Study\n",
        "#https://www.nature.com/articles/s41598-019-54388-4\n",
        "\n",
        "\n",
        "on covid-19 Twitter dataset available from\n",
        "\n",
        "#https://www.kaggle.com/smid80/coronavirus-covid19-tweets\n",
        "#https://www.kaggle.com/gayatris/coronatweetanalysisandsummarization/data\n"
      ]
    },
    {
      "cell_type": "code",
      "metadata": {
        "id": "kOv07edVfDVs",
        "colab_type": "code",
        "colab": {}
      },
      "source": [
        "\n",
        "\n",
        "from google.colab import drive\n",
        "drive.mount('/content/drive')\n",
        "\n",
        "%cd /content/drive/My Drive/twitter_data\n",
        "\n",
        "!ls"
      ],
      "execution_count": 0,
      "outputs": []
    },
    {
      "cell_type": "code",
      "metadata": {
        "id": "Vngyb5WP1T22",
        "colab_type": "code",
        "colab": {}
      },
      "source": [
        "\n",
        "!pip install statsmodels==v0.11.1\n",
        "!pip install sesd\n",
        "!pip install rpy2\n",
        "!pip install rstl\n",
        "\n"
      ],
      "execution_count": 0,
      "outputs": []
    },
    {
      "cell_type": "code",
      "metadata": {
        "id": "BZX36vEz1vE6",
        "colab_type": "code",
        "outputId": "e316c293-e254-48ea-9a4f-b92b260205d4",
        "colab": {
          "base_uri": "https://localhost:8080/",
          "height": 51
        }
      },
      "source": [
        "import pandas as pd\n",
        "import zipfile\n",
        "import nltk\n",
        "nltk.download('punkt')\n",
        "from bs4 import BeautifulSoup\n",
        "import re\n",
        "import glob\n",
        "\n",
        "\n",
        "import datetime\n",
        "\n",
        "import matplotlib.pyplot as plt\n",
        "\n",
        "\n",
        "import pyculiarity.detect_ts as detect_ts\n",
        "\n",
        "\n",
        "import statsmodels\n",
        "statsmodels.__version__\n",
        "import sesd\n",
        "\n",
        "\n",
        "list_files=glob.glob('./*.zip')\n",
        "\n",
        "plt.rcParams['figure.figsize'] = [10, 5]"
      ],
      "execution_count": 3,
      "outputs": [
        {
          "output_type": "stream",
          "text": [
            "[nltk_data] Downloading package punkt to /root/nltk_data...\n",
            "[nltk_data]   Unzipping tokenizers/punkt.zip.\n"
          ],
          "name": "stdout"
        }
      ]
    },
    {
      "cell_type": "code",
      "metadata": {
        "id": "egPqb_5fbzwd",
        "colab_type": "code",
        "colab": {}
      },
      "source": [
        "list_files=['./Coronavirus_Tweets_9_10_11_March.csv.zip',\n",
        " './Coronavirus_Tweets_16_March.csv.zip',\n",
        " './Coronavirus_Tweets_18_March.csv.zip',\n",
        " './Coronavirus_Tweets_17_March.csv.zip',\n",
        " './Coronavirus_Tweets_12_March.csv.zip',\n",
        " './Coronavirus_Tweets_14_March.csv.zip',\n",
        " './Coronavirus_Tweets_15_March.csv.zip',\n",
        " './Coronavirus_Tweets_13_March.csv.zip',\n",
        "'./Coronavirus_Tweets_19_March.csv.zip',\n",
        " './Coronavirus_Tweets_20_March.csv.zip']"
      ],
      "execution_count": 0,
      "outputs": []
    },
    {
      "cell_type": "code",
      "metadata": {
        "id": "SKNDZTXBxJMx",
        "colab_type": "code",
        "colab": {}
      },
      "source": [
        "twitter_df_raw = [pd.read_csv(x, compression='zip', header=0, sep=',', quotechar='\"') for x in list_files]"
      ],
      "execution_count": 0,
      "outputs": []
    },
    {
      "cell_type": "code",
      "metadata": {
        "id": "5Dd_c4YaxMOW",
        "colab_type": "code",
        "colab": {}
      },
      "source": [
        "## First focus on tweets in English\n",
        "\n",
        "twitter_df_raw =[twitter_df_raw[x][twitter_df_raw[x]['lang']=='en'].reset_index(drop=True) for x in range(len(twitter_df_raw ))]"
      ],
      "execution_count": 0,
      "outputs": []
    },
    {
      "cell_type": "code",
      "metadata": {
        "id": "LE8FJuxTf1rm",
        "colab_type": "code",
        "colab": {}
      },
      "source": [
        "## First focus on tweets with specified country code\n",
        "\n",
        "twitter_df_raw =[twitter_df_raw[x][~twitter_df_raw[x]['country_code'].isnull()].reset_index(drop=True) for x in range(len(twitter_df_raw))]"
      ],
      "execution_count": 0,
      "outputs": []
    },
    {
      "cell_type": "code",
      "metadata": {
        "id": "Yx7j6-7oFokZ",
        "colab_type": "code",
        "colab": {}
      },
      "source": [
        "\n",
        "\n",
        "twitter_df_raw=pd.concat(twitter_df_raw)\n",
        "\n",
        "\n",
        "twitter_df_raw['created_at']=pd.to_datetime(twitter_df_raw['created_at']) \n",
        "\n",
        "twitter_df_raw=twitter_df_raw.sort_values(by='created_at',ascending=True)\n",
        "\n"
      ],
      "execution_count": 0,
      "outputs": []
    },
    {
      "cell_type": "code",
      "metadata": {
        "id": "OEOk2Kzs5-HZ",
        "colab_type": "code",
        "outputId": "1d110eed-2386-4d25-a7dd-b7319ebbb0f6",
        "colab": {
          "base_uri": "https://localhost:8080/",
          "height": 326
        }
      },
      "source": [
        "\n",
        "\n",
        "\n",
        "\n",
        "\n",
        "\n",
        "twitter_df_raw.tail(5)"
      ],
      "execution_count": 12,
      "outputs": [
        {
          "output_type": "execute_result",
          "data": {
            "text/html": [
              "<div>\n",
              "<style scoped>\n",
              "    .dataframe tbody tr th:only-of-type {\n",
              "        vertical-align: middle;\n",
              "    }\n",
              "\n",
              "    .dataframe tbody tr th {\n",
              "        vertical-align: top;\n",
              "    }\n",
              "\n",
              "    .dataframe thead th {\n",
              "        text-align: right;\n",
              "    }\n",
              "</style>\n",
              "<table border=\"1\" class=\"dataframe\">\n",
              "  <thead>\n",
              "    <tr style=\"text-align: right;\">\n",
              "      <th></th>\n",
              "      <th>status_id</th>\n",
              "      <th>user_id</th>\n",
              "      <th>created_at</th>\n",
              "      <th>screen_name</th>\n",
              "      <th>text</th>\n",
              "      <th>source</th>\n",
              "      <th>reply_to_status_id</th>\n",
              "      <th>reply_to_user_id</th>\n",
              "      <th>reply_to_screen_name</th>\n",
              "      <th>is_quote</th>\n",
              "      <th>is_retweet</th>\n",
              "      <th>favourites_count</th>\n",
              "      <th>retweet_count</th>\n",
              "      <th>country_code</th>\n",
              "      <th>place_full_name</th>\n",
              "      <th>place_type</th>\n",
              "      <th>followers_count</th>\n",
              "      <th>friends_count</th>\n",
              "      <th>account_lang</th>\n",
              "      <th>account_created_at</th>\n",
              "      <th>verified</th>\n",
              "      <th>lang</th>\n",
              "    </tr>\n",
              "  </thead>\n",
              "  <tbody>\n",
              "    <tr>\n",
              "      <th>22258</th>\n",
              "      <td>1241152449844588544</td>\n",
              "      <td>15649662</td>\n",
              "      <td>2020-03-20 23:59:38+00:00</td>\n",
              "      <td>Listersmate</td>\n",
              "      <td>#Covid_19\\n#coronavirus #Internet #InternetOfT...</td>\n",
              "      <td>Twitter for Android</td>\n",
              "      <td>NaN</td>\n",
              "      <td>NaN</td>\n",
              "      <td>NaN</td>\n",
              "      <td>False</td>\n",
              "      <td>False</td>\n",
              "      <td>31130</td>\n",
              "      <td>0</td>\n",
              "      <td>US</td>\n",
              "      <td>Galax, VA</td>\n",
              "      <td>city</td>\n",
              "      <td>9717</td>\n",
              "      <td>10563</td>\n",
              "      <td>NaN</td>\n",
              "      <td>2008-07-29T18:55:31Z</td>\n",
              "      <td>False</td>\n",
              "      <td>en</td>\n",
              "    </tr>\n",
              "    <tr>\n",
              "      <th>22259</th>\n",
              "      <td>1241152485533855744</td>\n",
              "      <td>783185609326288896</td>\n",
              "      <td>2020-03-20 23:59:46+00:00</td>\n",
              "      <td>Driver4hire1</td>\n",
              "      <td>@carriesymonds So FLU kills on average 47 dail...</td>\n",
              "      <td>Twitter for Android</td>\n",
              "      <td>NaN</td>\n",
              "      <td>7.497467e+17</td>\n",
              "      <td>carriesymonds</td>\n",
              "      <td>False</td>\n",
              "      <td>False</td>\n",
              "      <td>685</td>\n",
              "      <td>0</td>\n",
              "      <td>GB</td>\n",
              "      <td>Warwick, England</td>\n",
              "      <td>city</td>\n",
              "      <td>163</td>\n",
              "      <td>1514</td>\n",
              "      <td>NaN</td>\n",
              "      <td>2016-10-04T06:02:54Z</td>\n",
              "      <td>False</td>\n",
              "      <td>en</td>\n",
              "    </tr>\n",
              "    <tr>\n",
              "      <th>22260</th>\n",
              "      <td>1241152514201960451</td>\n",
              "      <td>24706050</td>\n",
              "      <td>2020-03-20 23:59:53+00:00</td>\n",
              "      <td>DBradWhitt</td>\n",
              "      <td>ICYMI - Check out this simple article I wrote ...</td>\n",
              "      <td>Twitter for iPhone</td>\n",
              "      <td>NaN</td>\n",
              "      <td>NaN</td>\n",
              "      <td>NaN</td>\n",
              "      <td>True</td>\n",
              "      <td>False</td>\n",
              "      <td>14574</td>\n",
              "      <td>1</td>\n",
              "      <td>US</td>\n",
              "      <td>Georgia, USA</td>\n",
              "      <td>admin</td>\n",
              "      <td>4039</td>\n",
              "      <td>2591</td>\n",
              "      <td>NaN</td>\n",
              "      <td>2009-03-16T15:18:41Z</td>\n",
              "      <td>False</td>\n",
              "      <td>en</td>\n",
              "    </tr>\n",
              "    <tr>\n",
              "      <th>22261</th>\n",
              "      <td>1241152530165288960</td>\n",
              "      <td>415599621</td>\n",
              "      <td>2020-03-20 23:59:57+00:00</td>\n",
              "      <td>MVP_Pediatric</td>\n",
              "      <td>Which TV doctor would cure  #COVID19 first? I ...</td>\n",
              "      <td>Twitter for iPhone</td>\n",
              "      <td>NaN</td>\n",
              "      <td>NaN</td>\n",
              "      <td>NaN</td>\n",
              "      <td>False</td>\n",
              "      <td>False</td>\n",
              "      <td>6254</td>\n",
              "      <td>1</td>\n",
              "      <td>US</td>\n",
              "      <td>MVP Pediatric &amp; Urgent Care</td>\n",
              "      <td>poi</td>\n",
              "      <td>1543</td>\n",
              "      <td>1613</td>\n",
              "      <td>NaN</td>\n",
              "      <td>2011-11-18T15:11:34Z</td>\n",
              "      <td>False</td>\n",
              "      <td>en</td>\n",
              "    </tr>\n",
              "    <tr>\n",
              "      <th>22262</th>\n",
              "      <td>1241152532497522693</td>\n",
              "      <td>19658676</td>\n",
              "      <td>2020-03-20 23:59:57+00:00</td>\n",
              "      <td>BigBodyCisco</td>\n",
              "      <td>Now wait a WHOLE GOT DAMN MINUTE!!😩😳🤦🏽‍♂️🤣🙌🏽WH...</td>\n",
              "      <td>Instagram</td>\n",
              "      <td>NaN</td>\n",
              "      <td>NaN</td>\n",
              "      <td>NaN</td>\n",
              "      <td>False</td>\n",
              "      <td>False</td>\n",
              "      <td>675</td>\n",
              "      <td>0</td>\n",
              "      <td>US</td>\n",
              "      <td>Millbrae, CA</td>\n",
              "      <td>city</td>\n",
              "      <td>4109</td>\n",
              "      <td>1049</td>\n",
              "      <td>NaN</td>\n",
              "      <td>2009-01-28T16:03:05Z</td>\n",
              "      <td>False</td>\n",
              "      <td>en</td>\n",
              "    </tr>\n",
              "  </tbody>\n",
              "</table>\n",
              "</div>"
            ],
            "text/plain": [
              "                 status_id             user_id  ... verified lang\n",
              "22258  1241152449844588544            15649662  ...    False   en\n",
              "22259  1241152485533855744  783185609326288896  ...    False   en\n",
              "22260  1241152514201960451            24706050  ...    False   en\n",
              "22261  1241152530165288960           415599621  ...    False   en\n",
              "22262  1241152532497522693            19658676  ...    False   en\n",
              "\n",
              "[5 rows x 22 columns]"
            ]
          },
          "metadata": {
            "tags": []
          },
          "execution_count": 12
        }
      ]
    },
    {
      "cell_type": "code",
      "metadata": {
        "id": "y_4m_Q0I9J9q",
        "colab_type": "code",
        "colab": {}
      },
      "source": [
        "# Not all tweets will be relevant for the spread of the infection. \n",
        "# Hand labelling of some tweets as 'relevant/irrelevant' will be useful. \n",
        "# A classifier can be trained in a semi supervised fashion....still needs to be done "
      ],
      "execution_count": 0,
      "outputs": []
    },
    {
      "cell_type": "code",
      "metadata": {
        "id": "dmTS3tRbA5I9",
        "colab_type": "code",
        "colab": {}
      },
      "source": [
        "##https://github.com/ikc15/twitter_nlp_ONS/tree/master/Cleaner\n",
        "\n",
        "def clean_tweet(tweet):\n",
        "  \"\"\"\n",
        "  Input: tweet (original)\n",
        "  output: tweet without RT tag, username and urls, punctuation \"\"\"\n",
        "  # remove url\n",
        "  clean_tweet = re.sub(r\"http\\S+\", \"\", tweet)\n",
        "  # remove @username\n",
        "  clean_tweet = re.sub(r\"@\\S+\", \"\", clean_tweet)\n",
        "  # remove RT\n",
        "  clean_tweet = re.sub(r\"RT\", \"\", clean_tweet)\n",
        "  # remove #hastags\n",
        "  #clean_tweet = re.sub(r\"#\\S+\", \"\", clean_tweet)\n",
        "  clean_tweet = re.sub(r'([#])|([^a-zA-Z])',' ',clean_tweet)\n",
        "  # remove punctuation\n",
        "  tokens = [word.lower() for sent in nltk.sent_tokenize(clean_tweet) for word in nltk.word_tokenize(sent)]\n",
        "  filtered_tokens = []\n",
        "  # filter out any tokens not containing letters (e.g., numeric tokens,\n",
        "  # raw punctuation)\n",
        "  for token in tokens:\n",
        "    if re.search('[a-zA-Z]', token):\n",
        "      filtered_tokens.append(token)\n",
        "    clean_tweet = ' '.join(filtered_tokens)\n",
        "  return clean_tweet.lower()"
      ],
      "execution_count": 0,
      "outputs": []
    },
    {
      "cell_type": "code",
      "metadata": {
        "id": "WclCfjPMDp8Q",
        "colab_type": "code",
        "colab": {}
      },
      "source": [
        "twitter_df_raw['text']=twitter_df_raw['text'].apply(lambda x: clean_tweet(x))"
      ],
      "execution_count": 0,
      "outputs": []
    },
    {
      "cell_type": "code",
      "metadata": {
        "id": "P2C1EV1Fa7b1",
        "colab_type": "code",
        "colab": {}
      },
      "source": [
        "#twitter_df_raw.to_pickle('/content/drive/My Drive/twitter_data/twitter_data_cleaner_text.pkl')\n",
        "\n",
        "twitter_df_cleaner=pd.read_pickle('/content/drive/My Drive/twitter_data/twitter_data_cleaner_text.pkl')"
      ],
      "execution_count": 0,
      "outputs": []
    },
    {
      "cell_type": "code",
      "metadata": {
        "id": "EPcb8-uKEKG4",
        "colab_type": "code",
        "outputId": "68ea8b73-a8d1-4ad2-fe58-50464f52f52d",
        "colab": {
          "base_uri": "https://localhost:8080/",
          "height": 459
        }
      },
      "source": [
        "dict_countries={'US':'United States','GB':'Great Britain','IN':'India','CA':'Canada','IE':'Ireland','AU':'Australia'}\n",
        "\n",
        "twitter_df_cleaner['country_code'].value_counts()[:25]"
      ],
      "execution_count": 16,
      "outputs": [
        {
          "output_type": "execute_result",
          "data": {
            "text/plain": [
              "US    106272\n",
              "GB     28309\n",
              "CA     12201\n",
              "IN     10793\n",
              "IE      5325\n",
              "AU      4603\n",
              "ZA      3339\n",
              "NG      2865\n",
              "PH      2039\n",
              "PK      2030\n",
              "KE      1995\n",
              "IT      1475\n",
              "DE      1392\n",
              "ES      1146\n",
              "MY      1013\n",
              "NL       960\n",
              "LK       944\n",
              "GH       932\n",
              "AE       873\n",
              "BE       862\n",
              "FR       853\n",
              "UG       674\n",
              "NZ       647\n",
              "CH       599\n",
              "CN       539\n",
              "Name: country_code, dtype: int64"
            ]
          },
          "metadata": {
            "tags": []
          },
          "execution_count": 16
        }
      ]
    },
    {
      "cell_type": "markdown",
      "metadata": {
        "id": "2ttU1i0pqRja",
        "colab_type": "text"
      },
      "source": [
        "To prepare the required data, a continuous time-series of the daily number of tweets was calculated for each country "
      ]
    },
    {
      "cell_type": "code",
      "metadata": {
        "id": "x_LnNaVvZkNT",
        "colab_type": "code",
        "outputId": "6acf2a36-dacd-46e9-ae76-602aae206fe8",
        "colab": {
          "base_uri": "https://localhost:8080/",
          "height": 452
        }
      },
      "source": [
        "\n",
        "from matplotlib.pyplot import figure\n",
        "figure(num=None, figsize=(18, 6), dpi=80, facecolor='w', edgecolor='k')\n",
        "#Finding the total number of tweets from each country within this period\n",
        "\n",
        "ax = twitter_df_cleaner['country_code'].value_counts()[:50].plot(kind=\"bar\",log=True)\n",
        "plt.xlabel('Countries')\n",
        "plt.ylabel('Total number of corona related tweets')\n",
        "#ax.set_xticklabels([t if not i%5 else \"\" for i,t in enumerate(ax.get_xticklabels())])"
      ],
      "execution_count": 17,
      "outputs": [
        {
          "output_type": "execute_result",
          "data": {
            "text/plain": [
              "Text(0, 0.5, 'Total number of corona related tweets')"
            ]
          },
          "metadata": {
            "tags": []
          },
          "execution_count": 17
        },
        {
          "output_type": "display_data",
          "data": {
            "image/png": "[encoded data removed]",
            "text/plain": [
              "<Figure size 1440x480 with 1 Axes>"
            ]
          },
          "metadata": {
            "tags": []
          }
        }
      ]
    },
    {
      "cell_type": "markdown",
      "metadata": {
        "id": "PY1u4Urej-YP",
        "colab_type": "text"
      },
      "source": [
        "SH-ESD (Seasonal Hybrid Extreme Studentized Deviate) :\n",
        "\n",
        "\n",
        "The primary algorithm, Seasonal Hybrid ESD (S-H-ESD), builds upon the Generalized ESD test for detecting anomalies. S-H-ESD can be used to detect both global and local anomalies.\n",
        "\n",
        "This two step process allows SH-ESD to detect both global anomalies that extend beyond the expected seasonal minimum and maximum and local anomalies that would otherwise be masked by the seasonality.\n",
        "\n",
        "Python implementation of the Twitter Anomaly detection package (in R) can be found here \n",
        "\n",
        "https://github.com/zrnsm/pyculiarity\n",
        "\n",
        "There are other implementations of the techniques available too\n",
        "e.g.\n",
        "\n",
        "https://github.com/callmeashish/Anomaly-Detection-SH-ESD\n"
      ]
    },
    {
      "cell_type": "code",
      "metadata": {
        "id": "IEvBf3ROq1Li",
        "colab_type": "code",
        "colab": {}
      },
      "source": [
        "import warnings\n",
        "warnings.filterwarnings(\"ignore\")"
      ],
      "execution_count": 0,
      "outputs": []
    },
    {
      "cell_type": "code",
      "metadata": {
        "id": "IAogSqD2ZHDo",
        "colab_type": "code",
        "colab": {}
      },
      "source": [
        "def detect_anmly_and_show(df,cntry_name):\n",
        "  df=df[df['country_code']==cntry_name]\n",
        "  df['Dates'] = df['created_at'].dt.date\n",
        "  df['Hour'] = df['created_at'].dt.hour\n",
        "\n",
        "  df=df[(df['text'].str.contains('flu'))|(df['text'].str.contains('virus'))|(df['text'].str.contains('corona'))|(df['text'].str.contains('covid'))].reset_index(drop=True)\n",
        "\n",
        "\n",
        "  df=pd.DataFrame(df.groupby(['Dates','Hour'])['text'].count()).reset_index()\n",
        "  \n",
        "  \n",
        "  df['Timestamp']=pd.to_datetime(df.Dates) + pd.to_timedelta(df.Hour, unit='h')\n",
        "  \n",
        "  df.rename(columns={\"text\": \"Tweet counts\"},inplace=True)\n",
        "\n",
        "  df = df[['Timestamp', 'Tweet counts']]\n",
        "\n",
        "  ##https://github.com/zrnsm/pyculiarity/blob/master/pyculiarity/detect_ts.py\n",
        "  ## Look above for the meaning/role of the parameters.\n",
        "  results = detect_ts(df,max_anoms=0.1,direction='pos',alpha=0.1, only_last=None, threshold=None,e_value=False)\n",
        "\n",
        "\n",
        "  df_anomaly=results.get('anoms')\n",
        "  \n",
        "  df_anomaly.rename(columns={\"timestamp\": \"Timestamp\"},inplace=True)\n",
        "  \n",
        "  df_anomaly.reset_index(drop=True, inplace=True)\n",
        "\n",
        "\n",
        "\n",
        "  df.rename(columns={\"timestamp\": \"Timestamp\",\"value\": \"Tweet counts\"},inplace=True)\n",
        "  \n",
        "  \n",
        "  df_normal_abnormal=pd.merge(df, df_anomaly, how='inner', on='Timestamp')\n",
        "  \n",
        "  df_normal_abnormal.set_index('Timestamp',inplace=True)\n",
        "  plt.plot(df.Timestamp, df['Tweet counts'],label=dict_countries.get(cntry_name))\n",
        "  plt.scatter(df_normal_abnormal.index, df_normal_abnormal.anoms,label='Anomaly',c='black')\n",
        "  \n",
        "  plt.legend()\n",
        "  plt.xlabel('Date')\n",
        "  plt.ylabel('Number of tweets')\n",
        "  plt.xticks(rotation=60)\n",
        "  plt.legend()\n",
        "  #plt.show()\n"
      ],
      "execution_count": 0,
      "outputs": []
    },
    {
      "cell_type": "code",
      "metadata": {
        "id": "tICXMrk3_P5P",
        "colab_type": "code",
        "outputId": "812731a0-136a-4a98-e998-8111bcc5d44f",
        "colab": {
          "base_uri": "https://localhost:8080/",
          "height": 379
        }
      },
      "source": [
        "\n",
        "\n",
        "for x in list(dict_countries.keys()):\n",
        "  detect_anmly_and_show(twitter_df_cleaner,x)\n",
        "\n",
        "plt.show()"
      ],
      "execution_count": 28,
      "outputs": [
        {
          "output_type": "display_data",
          "data": {
            "image/png": "[encoded data removed]",
            "text/plain": [
              "<Figure size 720x360 with 1 Axes>"
            ]
          },
          "metadata": {
            "tags": [],
            "needs_background": "light"
          }
        }
      ]
    },
    {
      "cell_type": "code",
      "metadata": {
        "id": "C5_J3K5Vd7Aq",
        "colab_type": "code",
        "colab": {}
      },
      "source": [
        ""
      ],
      "execution_count": 0,
      "outputs": []
    }
  ]
}